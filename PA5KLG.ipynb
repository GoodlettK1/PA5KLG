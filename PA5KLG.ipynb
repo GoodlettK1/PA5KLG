{
 "cells": [
  {
   "cell_type": "markdown",
   "id": "e80363fe",
   "metadata": {},
   "source": [
    "## Programming Assignment 5\n",
    "CS150-01\n",
    "Computer Programming for the Liberal Arts\n",
    "FA 2023\n",
    "Keith Goodlett"
   ]
  },
  {
   "cell_type": "markdown",
   "id": "22416db6",
   "metadata": {},
   "source": [
    "### Task 1: Language Translator"
   ]
  },
  {
   "cell_type": "code",
   "execution_count": 10,
   "id": "bd1d6461",
   "metadata": {},
   "outputs": [
    {
     "name": "stdout",
     "output_type": "stream",
     "text": [
      "Enter a word to translate from English to Irish (enter 0 to stop): car\n",
      "The Irish word for car is carr.\n",
      "Enter a word to translate from English to Irish (enter 0 to stop): 0\n"
     ]
    }
   ],
   "source": [
    "translation_dict = {\n",
    "    'couch': 'outside this dictionary',\n",
    "    'chair': 'CATHAOIR',\n",
    "    'cat': 'not in this dictionary',\n",
    "    'dog': 'not in this dictionary',\n",
    "    'apple': 'úll',\n",
    "    'yellow': 'buí',\n",
    "    'car': 'carr',\n",
    "    'blanket': 'taobhlíne',\n",
    "    'sidewalk': 'brat',\n",
    "    'pancake': 'pancóg',\n",
    "}\n",
    "\n",
    "while True:\n",
    "    user_input = input('Enter a word to translate from English to Irish (enter 0 to stop): ')\n",
    "    \n",
    "    if user_input == '0':\n",
    "        break\n",
    "    \n",
    "    if user_input in translation_dict:\n",
    "        translation = translation_dict[user_input]\n",
    "        print(f'The Irish word for {user_input} is {translation}.')\n",
    "    else:\n",
    "        print(f'The Irish word for {user_input} is not in this dictionary.')"
   ]
  },
  {
   "cell_type": "markdown",
   "id": "de4e9010",
   "metadata": {},
   "source": [
    "### Task 2: Temperature converter"
   ]
  },
  {
   "cell_type": "code",
   "execution_count": 15,
   "id": "92e2bce2",
   "metadata": {},
   "outputs": [
    {
     "name": "stdout",
     "output_type": "stream",
     "text": [
      "Day\tTemperature in Celsius\n",
      "1\t31.111111 degrees celsius\n",
      "2\t32.777778 degrees celsius\n",
      "3\t33.333333 degrees celsius\n",
      "4\t33.888889 degrees celsius\n",
      "5\t32.222222 degrees celsius\n",
      "6\t28.888889 degrees celsius\n",
      "7\t25.000000 degrees celsius\n",
      "8\t28.888889 degrees celsius\n",
      "9\t27.222222 degrees celsius\n",
      "10\t28.888889 degrees celsius\n",
      "11\t30.555556 degrees celsius\n",
      "12\t26.666667 degrees celsius\n",
      "13\t27.777778 degrees celsius\n",
      "14\t27.222222 degrees celsius\n",
      "15\t27.222222 degrees celsius\n",
      "16\t28.333333 degrees celsius\n",
      "17\t26.111111 degrees celsius\n",
      "18\t26.666667 degrees celsius\n",
      "19\t27.222222 degrees celsius\n",
      "20\t29.444444 degrees celsius\n",
      "21\t30.000000 degrees celsius\n",
      "22\t31.666667 degrees celsius\n",
      "23\t28.333333 degrees celsius\n",
      "24\t28.888889 degrees celsius\n",
      "25\t30.555556 degrees celsius\n",
      "26\t31.666667 degrees celsius\n",
      "27\t28.333333 degrees celsius\n",
      "28\t27.777778 degrees celsius\n",
      "29\t29.444444 degrees celsius\n",
      "30\t30.000000 degrees celsius\n"
     ]
    }
   ],
   "source": [
    "temp_dict = {\n",
    "    1: 88, \n",
    "    2: 91,\n",
    "    3: 92,\n",
    "    4: 93,\n",
    "    5: 90,\n",
    "    6: 84,\n",
    "    7: 77,\n",
    "    8: 84,\n",
    "    9: 81,\n",
    "    10: 84,\n",
    "    11: 87,\n",
    "    12: 80,\n",
    "    13: 82,\n",
    "    14: 81,\n",
    "    15: 81,\n",
    "    16: 83,\n",
    "    17: 79,\n",
    "    18: 80,\n",
    "    19: 81,\n",
    "    20: 85,\n",
    "    21: 86,\n",
    "    22: 89,\n",
    "    23: 83,\n",
    "    24: 84,\n",
    "    25: 87,\n",
    "    26: 89,\n",
    "    27: 83,\n",
    "    28: 82,\n",
    "    29: 85,\n",
    "    30: 86,\n",
    "}\n",
    "\n",
    "for day, temperature_f in temp_dict.items():\n",
    "    temp_dict[day] = (temperature_f - 32) * 5/9\n",
    "print(\"Day\\tTemperature in Celsius\")\n",
    "for day, temperature_c in temp_dict.items():\n",
    "    print(f\"{day}\\t{temperature_c:f} degrees celsius\")\n"
   ]
  },
  {
   "cell_type": "markdown",
   "id": "4ed9c8c3",
   "metadata": {},
   "source": [
    "### Task 3: Write a Python script to create a dictionary where the keys are numbers between 1 and 15 (both included) and the values are the squares of the keys."
   ]
  },
  {
   "cell_type": "code",
   "execution_count": 9,
   "id": "98ec7ffd",
   "metadata": {},
   "outputs": [
    {
     "name": "stdout",
     "output_type": "stream",
     "text": [
      "{1: 1, 2: 4, 3: 9, 4: 16, 5: 25, 6: 36, 7: 49, 8: 64, 9: 81, 10: 100, 11: 121, 12: 144, 13: 169, 14: 196, 15: 225}\n"
     ]
    }
   ],
   "source": [
    "squares_dict = {num: num**2 for num in range(1, 16)}\n",
    "\n",
    "print(squares_dict)"
   ]
  },
  {
   "cell_type": "markdown",
   "id": "f07e18ee",
   "metadata": {},
   "source": [
    "### Task4: User Profile Dictionary"
   ]
  },
  {
   "cell_type": "code",
   "execution_count": 14,
   "id": "6b63b930",
   "metadata": {},
   "outputs": [
    {
     "name": "stdout",
     "output_type": "stream",
     "text": [
      "Enter your name (or 0 to stop): Goodlett\n",
      "Enter your age: 55\n",
      "Enter your email: keithgoodlett@yahoo.com\n",
      "Enter your city: Louisville\n",
      "Enter your name (or 0 to stop): 0\n",
      "Enter a name to search for a user's profile: Keith\n",
      "User 'Keith' not found in the user profiles.\n"
     ]
    }
   ],
   "source": [
    "user_profiles = {}\n",
    "\n",
    "while True: \n",
    "    name = input(\"Enter your name (or 0 to stop): \")\n",
    "    if name == '0':\n",
    "        break\n",
    "    \n",
    "    age = input(\"Enter your age: \")\n",
    "    email = input(\"Enter your email: \")\n",
    "    city = input(\"Enter your city: \")\n",
    "    \n",
    "    user_profiles[name] = {\n",
    "        'Age': age,\n",
    "        'Email': email,\n",
    "        'City': city\n",
    "    }\n",
    "\n",
    "search_name = input(\"Enter a name to search for a user's profile: \")\n",
    "\n",
    "if search_name in user_profiles:\n",
    "    print(f\"User Profile for {search_name}:\")\n",
    "    for key, value in user_profiles[search_name].items():\n",
    "        print(f\"{key}: {value}\")\n",
    "else:\n",
    "    print(f\"User '{search_name}' not found in the user profiles.\")\n"
   ]
  },
  {
   "cell_type": "code",
   "execution_count": null,
   "id": "ebc044fd",
   "metadata": {},
   "outputs": [],
   "source": []
  }
 ],
 "metadata": {
  "kernelspec": {
   "display_name": "Python 3 (ipykernel)",
   "language": "python",
   "name": "python3"
  },
  "language_info": {
   "codemirror_mode": {
    "name": "ipython",
    "version": 3
   },
   "file_extension": ".py",
   "mimetype": "text/x-python",
   "name": "python",
   "nbconvert_exporter": "python",
   "pygments_lexer": "ipython3",
   "version": "3.11.5"
  }
 },
 "nbformat": 4,
 "nbformat_minor": 5
}
